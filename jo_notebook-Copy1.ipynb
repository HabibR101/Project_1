{
 "cells": [
  {
   "cell_type": "code",
   "execution_count": 58,
   "id": "bf0fe03a",
   "metadata": {},
   "outputs": [],
   "source": [
    "import matplotlib.pyplot as plt\n",
    "import pandas as pd\n",
    "import numpy as np\n",
    "import scipy.stats as stats\n",
    "import requests\n",
    "import time\n",
    "import scipy.stats as stats"
   ]
  },
  {
   "cell_type": "code",
   "execution_count": 59,
   "id": "38e7324e",
   "metadata": {
    "scrolled": false
   },
   "outputs": [
    {
     "data": {
      "text/html": [
       "<div>\n",
       "<style scoped>\n",
       "    .dataframe tbody tr th:only-of-type {\n",
       "        vertical-align: middle;\n",
       "    }\n",
       "\n",
       "    .dataframe tbody tr th {\n",
       "        vertical-align: top;\n",
       "    }\n",
       "\n",
       "    .dataframe thead th {\n",
       "        text-align: right;\n",
       "    }\n",
       "</style>\n",
       "<table border=\"1\" class=\"dataframe\">\n",
       "  <thead>\n",
       "    <tr style=\"text-align: right;\">\n",
       "      <th></th>\n",
       "      <th>Date_Time</th>\n",
       "      <th>Accident_Index</th>\n",
       "      <th>Longitude</th>\n",
       "      <th>Latitude</th>\n",
       "      <th>Accident_Severity</th>\n",
       "      <th>Number_of_Vehicles</th>\n",
       "      <th>Number_of_Casualties</th>\n",
       "      <th>Day_of_Week</th>\n",
       "      <th>Local_Authority_(District)</th>\n",
       "      <th>1st_Road_Class</th>\n",
       "      <th>...</th>\n",
       "      <th>Vehicle_Reference_y</th>\n",
       "      <th>Casualty_Reference</th>\n",
       "      <th>Casualty_Class</th>\n",
       "      <th>Sex_of_Casualty</th>\n",
       "      <th>Age_of_Casualty</th>\n",
       "      <th>Age_Band_of_Casualty</th>\n",
       "      <th>Casualty_Severity</th>\n",
       "      <th>Car_Passenger</th>\n",
       "      <th>Casualty_Type</th>\n",
       "      <th>Casualty_Home_Area_Type</th>\n",
       "    </tr>\n",
       "  </thead>\n",
       "  <tbody>\n",
       "    <tr>\n",
       "      <th>0</th>\n",
       "      <td>2005-01-01 20:23:00</td>\n",
       "      <td>200520D002602</td>\n",
       "      <td>-1.832342</td>\n",
       "      <td>52.534986</td>\n",
       "      <td>2</td>\n",
       "      <td>1</td>\n",
       "      <td>3</td>\n",
       "      <td>7</td>\n",
       "      <td>300</td>\n",
       "      <td>5</td>\n",
       "      <td>...</td>\n",
       "      <td>1</td>\n",
       "      <td>1</td>\n",
       "      <td>1</td>\n",
       "      <td>1</td>\n",
       "      <td>-1</td>\n",
       "      <td>-1</td>\n",
       "      <td>3</td>\n",
       "      <td>0</td>\n",
       "      <td>9</td>\n",
       "      <td>1</td>\n",
       "    </tr>\n",
       "    <tr>\n",
       "      <th>1</th>\n",
       "      <td>2005-02-01 18:45:00</td>\n",
       "      <td>200520D002703</td>\n",
       "      <td>-1.846293</td>\n",
       "      <td>52.465961</td>\n",
       "      <td>3</td>\n",
       "      <td>2</td>\n",
       "      <td>2</td>\n",
       "      <td>1</td>\n",
       "      <td>300</td>\n",
       "      <td>5</td>\n",
       "      <td>...</td>\n",
       "      <td>2</td>\n",
       "      <td>1</td>\n",
       "      <td>1</td>\n",
       "      <td>1</td>\n",
       "      <td>31</td>\n",
       "      <td>6</td>\n",
       "      <td>3</td>\n",
       "      <td>0</td>\n",
       "      <td>9</td>\n",
       "      <td>1</td>\n",
       "    </tr>\n",
       "    <tr>\n",
       "      <th>2</th>\n",
       "      <td>2005-03-01 17:04:00</td>\n",
       "      <td>200520D004203</td>\n",
       "      <td>-1.794089</td>\n",
       "      <td>52.455003</td>\n",
       "      <td>3</td>\n",
       "      <td>1</td>\n",
       "      <td>1</td>\n",
       "      <td>2</td>\n",
       "      <td>300</td>\n",
       "      <td>3</td>\n",
       "      <td>...</td>\n",
       "      <td>1</td>\n",
       "      <td>1</td>\n",
       "      <td>1</td>\n",
       "      <td>1</td>\n",
       "      <td>24</td>\n",
       "      <td>5</td>\n",
       "      <td>3</td>\n",
       "      <td>0</td>\n",
       "      <td>9</td>\n",
       "      <td>1</td>\n",
       "    </tr>\n",
       "    <tr>\n",
       "      <th>3</th>\n",
       "      <td>2005-05-01 15:05:00</td>\n",
       "      <td>200520D004603</td>\n",
       "      <td>-1.869954</td>\n",
       "      <td>52.478755</td>\n",
       "      <td>1</td>\n",
       "      <td>1</td>\n",
       "      <td>2</td>\n",
       "      <td>4</td>\n",
       "      <td>300</td>\n",
       "      <td>6</td>\n",
       "      <td>...</td>\n",
       "      <td>1</td>\n",
       "      <td>1</td>\n",
       "      <td>3</td>\n",
       "      <td>1</td>\n",
       "      <td>31</td>\n",
       "      <td>6</td>\n",
       "      <td>1</td>\n",
       "      <td>0</td>\n",
       "      <td>0</td>\n",
       "      <td>1</td>\n",
       "    </tr>\n",
       "    <tr>\n",
       "      <th>4</th>\n",
       "      <td>2005-05-01 22:00:00</td>\n",
       "      <td>200520D006503</td>\n",
       "      <td>-1.857470</td>\n",
       "      <td>52.469211</td>\n",
       "      <td>3</td>\n",
       "      <td>2</td>\n",
       "      <td>1</td>\n",
       "      <td>4</td>\n",
       "      <td>300</td>\n",
       "      <td>6</td>\n",
       "      <td>...</td>\n",
       "      <td>2</td>\n",
       "      <td>1</td>\n",
       "      <td>1</td>\n",
       "      <td>2</td>\n",
       "      <td>22</td>\n",
       "      <td>5</td>\n",
       "      <td>3</td>\n",
       "      <td>0</td>\n",
       "      <td>9</td>\n",
       "      <td>1</td>\n",
       "    </tr>\n",
       "  </tbody>\n",
       "</table>\n",
       "<p>5 rows × 54 columns</p>\n",
       "</div>"
      ],
      "text/plain": [
       "            Date_Time Accident_Index  Longitude   Latitude  Accident_Severity  \\\n",
       "0 2005-01-01 20:23:00  200520D002602  -1.832342  52.534986                  2   \n",
       "1 2005-02-01 18:45:00  200520D002703  -1.846293  52.465961                  3   \n",
       "2 2005-03-01 17:04:00  200520D004203  -1.794089  52.455003                  3   \n",
       "3 2005-05-01 15:05:00  200520D004603  -1.869954  52.478755                  1   \n",
       "4 2005-05-01 22:00:00  200520D006503  -1.857470  52.469211                  3   \n",
       "\n",
       "   Number_of_Vehicles  Number_of_Casualties  Day_of_Week  \\\n",
       "0                   1                     3            7   \n",
       "1                   2                     2            1   \n",
       "2                   1                     1            2   \n",
       "3                   1                     2            4   \n",
       "4                   2                     1            4   \n",
       "\n",
       "   Local_Authority_(District)  1st_Road_Class  ...  Vehicle_Reference_y  \\\n",
       "0                         300               5  ...                    1   \n",
       "1                         300               5  ...                    2   \n",
       "2                         300               3  ...                    1   \n",
       "3                         300               6  ...                    1   \n",
       "4                         300               6  ...                    2   \n",
       "\n",
       "   Casualty_Reference  Casualty_Class  Sex_of_Casualty  Age_of_Casualty  \\\n",
       "0                   1               1                1               -1   \n",
       "1                   1               1                1               31   \n",
       "2                   1               1                1               24   \n",
       "3                   1               3                1               31   \n",
       "4                   1               1                2               22   \n",
       "\n",
       "   Age_Band_of_Casualty  Casualty_Severity  Car_Passenger  Casualty_Type  \\\n",
       "0                    -1                  3              0              9   \n",
       "1                     6                  3              0              9   \n",
       "2                     5                  3              0              9   \n",
       "3                     6                  1              0              0   \n",
       "4                     5                  3              0              9   \n",
       "\n",
       "   Casualty_Home_Area_Type  \n",
       "0                        1  \n",
       "1                        1  \n",
       "2                        1  \n",
       "3                        1  \n",
       "4                        1  \n",
       "\n",
       "[5 rows x 54 columns]"
      ]
     },
     "execution_count": 59,
     "metadata": {},
     "output_type": "execute_result"
    }
   ],
   "source": [
    "#load csv data into dataframe, and combine date + time columns\n",
    "working_df = pd.read_csv(\"cleaned_car_accidents.csv\" , parse_dates=[[\"Date\" , \"Time\"]])\n",
    "#print first 5 rows to check dataframe worked\n",
    "working_df.head()"
   ]
  },
  {
   "cell_type": "markdown",
   "id": "b10a2842",
   "metadata": {},
   "source": [
    "# Assessment of Casualty Numbers versus Time of Day\n",
    "\n",
    "# Question: When are accidents most likely to occur, based on time of day?\n",
    "\n",
    "### Here, we have filtered the data by combining accidents that have occurred during specific times of day into intervals, such that we can better assess when accidents are most likely to occur.\n",
    "\n",
    "    A 24 hour time format is being used. The intervals we have decided are as follows:\n",
    "    \n",
    "    Morning - 06:00 - 11:59\n",
    "    Afternoon - 12:00 - 17:59\n",
    "    Evening- 18:00-23:59\n",
    "    Night- 00:00 - 05:59"
   ]
  },
  {
   "cell_type": "code",
   "execution_count": 60,
   "id": "7d427dcc",
   "metadata": {
    "scrolled": false
   },
   "outputs": [
    {
     "data": {
      "text/plain": [
       "Index(['Date_Time', 'Accident_Index', 'Longitude', 'Latitude',\n",
       "       'Accident_Severity', 'Number_of_Vehicles', 'Number_of_Casualties',\n",
       "       'Day_of_Week', 'Local_Authority_(District)', '1st_Road_Class',\n",
       "       '1st_Road_Number', 'Road_Type', 'Speed_limit', 'Junction_Detail',\n",
       "       'Junction_Control', '2nd_Road_Class', '2nd_Road_Number',\n",
       "       'Pedestrian_Crossing-Human_Control',\n",
       "       'Pedestrian_Crossing-Physical_Facilities', 'Light_Conditions',\n",
       "       'Weather_Conditions', 'Road_Surface_Conditions',\n",
       "       'Special_Conditions_at_Site', 'Carriageway_Hazards',\n",
       "       'Urban_or_Rural_Area', 'Vehicle_Reference_x', 'Vehicle_Type',\n",
       "       'Towing_and_Articulation', 'Vehicle_Manoeuvre',\n",
       "       'Vehicle_Location-Restricted_Lane', 'Junction_Location',\n",
       "       'Skidding_and_Overturning', 'Hit_Object_in_Carriageway',\n",
       "       'Vehicle_Leaving_Carriageway', 'Hit_Object_off_Carriageway',\n",
       "       '1st_Point_of_Impact', 'Journey_Purpose_of_Driver', 'Sex_of_Driver',\n",
       "       'Age_of_Driver', 'Age_Band_of_Driver', 'Engine_Capacity_(CC)',\n",
       "       'Age_of_Vehicle', 'Driver_IMD_Decile', 'Driver_Home_Area_Type',\n",
       "       'Vehicle_Reference_y', 'Casualty_Reference', 'Casualty_Class',\n",
       "       'Sex_of_Casualty', 'Age_of_Casualty', 'Age_Band_of_Casualty',\n",
       "       'Casualty_Severity', 'Car_Passenger', 'Casualty_Type',\n",
       "       'Casualty_Home_Area_Type'],\n",
       "      dtype='object')"
      ]
     },
     "execution_count": 60,
     "metadata": {},
     "output_type": "execute_result"
    }
   ],
   "source": [
    "#check column names for use throughout analysis\n",
    "working_df.columns"
   ]
  },
  {
   "cell_type": "code",
   "execution_count": 82,
   "id": "97a03197",
   "metadata": {},
   "outputs": [],
   "source": [
    "# Assuming 'Date_Time' column contains datetime objects\n",
    "working_df['Date_Time'] = pd.to_datetime(working_df['Date_Time'])\n",
    "\n",
    "# Define the bins , label the bins and add the bins to dataframe\n",
    "bins = [0, 6, 12, 18, 24]\n",
    "labels = ['Night', 'Morning', 'Afternoon', 'Evening']\n",
    "working_df['Time Bin'] = pd.cut(working_df['Date_Time'].dt.hour, bins=bins, labels=labels, right=False)"
   ]
  },
  {
   "cell_type": "code",
   "execution_count": 109,
   "id": "b5becd82",
   "metadata": {},
   "outputs": [
    {
     "data": {
      "text/plain": [
       "Afternoon    29780\n",
       "Evening      17658\n",
       "Morning      16964\n",
       "Night         3909\n",
       "Name: Time Bin, dtype: int64"
      ]
     },
     "execution_count": 109,
     "metadata": {},
     "output_type": "execute_result"
    }
   ],
   "source": [
    "#Total number of accidents per bin\n",
    "bar_df = working_df['Time Bin'].value_counts()\n",
    "bar_df"
   ]
  },
  {
   "cell_type": "markdown",
   "id": "4c7d7f17",
   "metadata": {},
   "source": [
    "### The below pie chart shows that majority of accidents over the time period assessed, in the West Midlands, occur during afternoon hours of 12:00 - 17:59. Common knowledge tells us that this is usually the time of day when road users use their vehicles for school runs, and the evening commute home after work. Although we cannot infer whether these accidents are occurring specifically during the school run or the commute home, we can definitely recommend that further care should be taken when driving during these hours."
   ]
  },
  {
   "cell_type": "code",
   "execution_count": 114,
   "id": "5a2d4675",
   "metadata": {
    "scrolled": false
   },
   "outputs": [
    {
     "data": {
      "image/png": "[encoded data removed]",
      "text/plain": [
       "<Figure size 640x480 with 1 Axes>"
      ]
     },
     "metadata": {},
     "output_type": "display_data"
    },
    {
     "data": {
      "text/plain": [
       "<Figure size 640x480 with 0 Axes>"
      ]
     },
     "metadata": {},
     "output_type": "display_data"
    }
   ],
   "source": [
    "#show relationship between time of day and number of accidents\n",
    "labels = ['Afternoon : 12:00-17:59' , 'Evening : 18:00-23:59' , 'Morning : 06:00 - 11:59', 'Night : 00:00 - 05:59']\n",
    "plt.pie(bar_df,labels=labels,autopct=\"%1.1f%%\", shadow=True, startangle=140)\n",
    "plt.title('Accident Numbers vs. Time of Day')\n",
    "plt.axis(\"equal\")\n",
    "plt.show()\n",
    "\n",
    "#save as png file\n",
    "plt.savefig(\"visualisation/jo_pie_chart.png\")"
   ]
  },
  {
   "attachments": {},
   "cell_type": "markdown",
   "id": "193f0471",
   "metadata": {},
   "source": [
    "# Assessment of Casualty Severity based on Light Conditions\n",
    "\n",
    "## Question: What type of light conditions contribute to the severity of casualties?\n",
    "\n",
    "In the government data file, the road safety key has defined light conditions with the below keys-\n",
    "\n",
    "    1 : Daylight\n",
    "    4 : Darkness - lights lit\n",
    "    5 : Darkness - lights unlit\n",
    "    6 : Darkness - no lighting\n",
    "    7 : Darkness - lighting unknown\n",
    "    -1 : Data missing or out of range\n",
    "    \n",
    "We are going to combine the data under key 5 and 6, as both involve the roads being unlit. We will be dropping the data points from key 7 and -1 as this could potentially skew or create bias in our data because we do not know if the roads were lit or not.\n"
   ]
  },
  {
   "cell_type": "code",
   "execution_count": null,
   "id": "32d9acd7",
   "metadata": {},
   "outputs": [],
   "source": []
  }
 ],
 "metadata": {
  "kernelspec": {
   "display_name": "Python 3 (ipykernel)",
   "language": "python",
   "name": "python3"
  },
  "language_info": {
   "codemirror_mode": {
    "name": "ipython",
    "version": 3
   },
   "file_extension": ".py",
   "mimetype": "text/x-python",
   "name": "python",
   "nbconvert_exporter": "python",
   "pygments_lexer": "ipython3",
   "version": "3.10.12"
  }
 },
 "nbformat": 4,
 "nbformat_minor": 5
}
