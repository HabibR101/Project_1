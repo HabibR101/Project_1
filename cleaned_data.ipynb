{
 "cells": [
  {
   "cell_type": "code",
   "execution_count": 32,
   "id": "d9b4ff98",
   "metadata": {},
   "outputs": [],
   "source": [
    "# Dependencies and Setup\n",
    "import matplotlib.pyplot as plt\n",
    "import pandas as pd\n",
    "import numpy as np\n",
    "import requests\n",
    "import time\n",
    "from scipy.stats import linregress"
   ]
  },
  {
   "cell_type": "code",
   "execution_count": 33,
   "id": "0c163651",
   "metadata": {},
   "outputs": [],
   "source": [
    "#Read in all 3 csv files containing car accident data from UK Gov skipping any data points with errors\n",
    "\n",
    "vehicles_df = pd.read_csv(\"../resources/archive/Vehicles0515.csv\", on_bad_lines='skip')\n",
    "accidents_df = pd.read_csv(\"../resources/archive/Accidents0515.csv\", on_bad_lines='skip')\n",
    "casualties_df = pd.read_csv(\"../resources/archive/Casualties0515.csv\", on_bad_lines='skip')"
   ]
  },
  {
   "cell_type": "code",
   "execution_count": 34,
   "id": "a7a0296b",
   "metadata": {},
   "outputs": [],
   "source": [
    "#filter data by local authority set to Birmingham, Coventry, Dudley, Sandwell, Solihull, Walsall and Wolverhampton only\n",
    "westmids_df= accidents_df[(accidents_df[\"Local_Authority_(District)\"]>=300) & (accidents_df[\"Local_Authority_(District)\"]<310)]\n",
    "\n",
    "#Master dataframe created by merging on inner to drop any accident index values that are not present in both dataframes\n",
    "veh_acc_df = pd.merge(westmids_df, vehicles_df, on= 'Accident_Index', how = 'inner')\n",
    "car_accidents_df = pd.merge(veh_acc_df, casualties_df, on = \"Accident_Index\", how = 'inner')"
   ]
  },
  {
   "cell_type": "code",
   "execution_count": 36,
   "id": "f34ab4d7",
   "metadata": {},
   "outputs": [],
   "source": [
    "#drop any rows with NaN/empty/missing values\n",
    "car_accidents_df = car_accidents_df.dropna(how = 'any')"
   ]
  },
  {
   "cell_type": "code",
   "execution_count": 37,
   "id": "8d614b77",
   "metadata": {},
   "outputs": [],
   "source": [
    "# Create a clean DataFrame by dropping the duplicate rows by its Accident Index.\n",
    "cleaned_df = car_accidents_df.drop_duplicates(subset=['Accident_Index'])\n"
   ]
  },
  {
   "cell_type": "code",
   "execution_count": 47,
   "id": "ef6cc7f1",
   "metadata": {
    "scrolled": true
   },
   "outputs": [
    {
     "name": "stdout",
     "output_type": "stream",
     "text": [
      "Index(['Accident_Index', 'Location_Easting_OSGR', 'Location_Northing_OSGR',\n",
      "       'Longitude', 'Latitude', 'Police_Force', 'Accident_Severity',\n",
      "       'Number_of_Vehicles', 'Number_of_Casualties', 'Date', 'Day_of_Week',\n",
      "       'Time', 'Local_Authority_(District)', 'Local_Authority_(Highway)',\n",
      "       '1st_Road_Class', '1st_Road_Number', 'Road_Type', 'Speed_limit',\n",
      "       'Junction_Detail', 'Junction_Control', '2nd_Road_Class',\n",
      "       '2nd_Road_Number', 'Pedestrian_Crossing-Human_Control',\n",
      "       'Pedestrian_Crossing-Physical_Facilities', 'Light_Conditions',\n",
      "       'Weather_Conditions', 'Road_Surface_Conditions',\n",
      "       'Special_Conditions_at_Site', 'Carriageway_Hazards',\n",
      "       'Urban_or_Rural_Area', 'Did_Police_Officer_Attend_Scene_of_Accident',\n",
      "       'LSOA_of_Accident_Location', 'Vehicle_Reference_x', 'Vehicle_Type',\n",
      "       'Towing_and_Articulation', 'Vehicle_Manoeuvre',\n",
      "       'Vehicle_Location-Restricted_Lane', 'Junction_Location',\n",
      "       'Skidding_and_Overturning', 'Hit_Object_in_Carriageway',\n",
      "       'Vehicle_Leaving_Carriageway', 'Hit_Object_off_Carriageway',\n",
      "       '1st_Point_of_Impact', 'Was_Vehicle_Left_Hand_Drive?',\n",
      "       'Journey_Purpose_of_Driver', 'Sex_of_Driver', 'Age_of_Driver',\n",
      "       'Age_Band_of_Driver', 'Engine_Capacity_(CC)', 'Propulsion_Code',\n",
      "       'Age_of_Vehicle', 'Driver_IMD_Decile', 'Driver_Home_Area_Type',\n",
      "       'Vehicle_Reference_y', 'Casualty_Reference', 'Casualty_Class',\n",
      "       'Sex_of_Casualty', 'Age_of_Casualty', 'Age_Band_of_Casualty',\n",
      "       'Casualty_Severity', 'Pedestrian_Location', 'Pedestrian_Movement',\n",
      "       'Car_Passenger', 'Bus_or_Coach_Passenger',\n",
      "       'Pedestrian_Road_Maintenance_Worker', 'Casualty_Type',\n",
      "       'Casualty_Home_Area_Type'],\n",
      "      dtype='object')\n"
     ]
    }
   ],
   "source": [
    "#total number of datapoints this project is working with\n",
    "len(cleaned_df)\n",
    "print(cleaned_df.columns)"
   ]
  },
  {
   "cell_type": "code",
   "execution_count": 51,
   "id": "ee688928",
   "metadata": {},
   "outputs": [],
   "source": [
    "superclean_df = cleaned_df[['Accident_Index','Longitude','Latitude', 'Accident_Severity',\n",
    "       'Number_of_Vehicles', 'Number_of_Casualties', 'Date', 'Day_of_Week',\n",
    "       'Time', 'Local_Authority_(District)','1st_Road_Class','1st_Road_Number', 'Road_Type', 'Speed_limit',\n",
    "       'Junction_Detail', 'Junction_Control', '2nd_Road_Class',\n",
    "       '2nd_Road_Number', 'Pedestrian_Crossing-Human_Control',\n",
    "       'Pedestrian_Crossing-Physical_Facilities', 'Light_Conditions',\n",
    "       'Weather_Conditions', 'Road_Surface_Conditions',\n",
    "       'Special_Conditions_at_Site', 'Carriageway_Hazards',\n",
    "       'Urban_or_Rural_Area','Vehicle_Reference_x', 'Vehicle_Type',\n",
    "       'Towing_and_Articulation', 'Vehicle_Manoeuvre',\n",
    "       'Vehicle_Location-Restricted_Lane', 'Junction_Location',\n",
    "       'Skidding_and_Overturning', 'Hit_Object_in_Carriageway',\n",
    "       'Vehicle_Leaving_Carriageway', 'Hit_Object_off_Carriageway',\n",
    "       '1st_Point_of_Impact','Journey_Purpose_of_Driver', 'Sex_of_Driver', 'Age_of_Driver',\n",
    "       'Age_Band_of_Driver', 'Engine_Capacity_(CC)',\n",
    "       'Age_of_Vehicle', 'Driver_IMD_Decile', 'Driver_Home_Area_Type',\n",
    "       'Vehicle_Reference_y', 'Casualty_Reference', 'Casualty_Class',\n",
    "       'Sex_of_Casualty', 'Age_of_Casualty', 'Age_Band_of_Casualty',\n",
    "       'Casualty_Severity','Car_Passenger', 'Casualty_Type',\n",
    "       'Casualty_Home_Area_Type']]"
   ]
  },
  {
   "cell_type": "code",
   "execution_count": 52,
   "id": "d1bb2ae8",
   "metadata": {},
   "outputs": [],
   "source": [
    "#save as new csv file to submit for assessment\n",
    "superclean_df.to_csv(\"cleaned_car_accidents.csv\")"
   ]
  }
 ],
 "metadata": {
  "kernelspec": {
   "display_name": "Python 3 (ipykernel)",
   "language": "python",
   "name": "python3"
  },
  "language_info": {
   "codemirror_mode": {
    "name": "ipython",
    "version": 3
   },
   "file_extension": ".py",
   "mimetype": "text/x-python",
   "name": "python",
   "nbconvert_exporter": "python",
   "pygments_lexer": "ipython3",
   "version": "3.11.4"
  }
 },
 "nbformat": 4,
 "nbformat_minor": 5
}
